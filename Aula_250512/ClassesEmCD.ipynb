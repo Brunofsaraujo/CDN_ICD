{
  "nbformat": 4,
  "nbformat_minor": 0,
  "metadata": {
    "colab": {
      "provenance": []
    },
    "kernelspec": {
      "name": "python3",
      "display_name": "Python 3"
    },
    "language_info": {
      "name": "python"
    }
  },
  "cells": [
    {
      "cell_type": "code",
      "execution_count": 1,
      "metadata": {
        "colab": {
          "base_uri": "https://localhost:8080/"
        },
        "id": "dkFTCNhCpGbd",
        "outputId": "b19830e2-2896-4bdc-da87-311a709381ff"
      },
      "outputs": [
        {
          "output_type": "stream",
          "name": "stdout",
          "text": [
            "Writing dataset_leitor.py\n"
          ]
        }
      ],
      "source": [
        "%%writefile dataset_leitor.py\n",
        "import pandas as pd\n",
        "\n",
        "class DatasetLeitor:\n",
        "    def __init__(self, arquivo_csv):\n",
        "        self.__caminho = arquivo_csv              # privado\n",
        "        self._dados = None                        # protegido (por convenção)\n",
        "        self.__carregar_dados()                   # carregamento automático\n",
        "\n",
        "    def __carregar_dados(self):                   # método privado\n",
        "        try:\n",
        "            self._dados = pd.read_csv(self.__caminho)\n",
        "            print(\"Dados carregados com sucesso.\")\n",
        "        except FileNotFoundError:\n",
        "            print(\"Arquivo não encontrado.\")\n",
        "        except Exception as e:\n",
        "            print(\"Erro ao carregar dados:\", e)\n",
        "\n",
        "    @property\n",
        "    def dados(self):                              # getter\n",
        "        return self._dados.copy()                 # protege o original\n",
        "\n",
        "    @property\n",
        "    def colunas(self):                            # interface de acesso\n",
        "        return list(self._dados.columns)\n",
        "\n",
        "    def filtrar_coluna(self, nome_coluna, valor): # interface de negócio\n",
        "        if nome_coluna not in self._dados.columns:\n",
        "            print(f\"Coluna '{nome_coluna}' não encontrada.\")\n",
        "            return None\n",
        "        return self._dados[self._dados[nome_coluna] == valor]\n",
        "\n",
        "    def resumo(self):                             # interface analítica\n",
        "        return self._dados.describe()\n",
        "\n",
        "    def linhas_nulas(self):                       # utilidade analítica\n",
        "        return self._dados[self._dados.isnull().any(axis=1)]"
      ]
    },
    {
      "cell_type": "code",
      "source": [
        "# Simula um CSV\n",
        "import pandas as pd\n",
        "\n",
        "df = pd.DataFrame({\n",
        "    'Nome': ['Ana', 'Bruno', 'Carlos', 'Ana'],\n",
        "    'Idade': [23, 31, 19, None],\n",
        "    'Nota': [8.5, 7.2, 9.1, 6.8]\n",
        "})\n",
        "df.to_csv('dados.csv', index=False)"
      ],
      "metadata": {
        "id": "yh0ptgY9pRzj"
      },
      "execution_count": 2,
      "outputs": []
    },
    {
      "cell_type": "code",
      "source": [
        "from dataset_leitor import DatasetLeitor\n",
        "\n",
        "dh = DatasetLeitor('dados.csv')\n",
        "\n",
        "print(\"Colunas:\", dh.colunas)\n",
        "print(\"Resumo:\\n\", dh.resumo())\n",
        "print(\"Filtro por nome == Ana:\\n\", dh.filtrar_coluna('Nome', 'Ana'))\n",
        "print(\"Linhas com nulos:\\n\", dh.linhas_nulas())"
      ],
      "metadata": {
        "colab": {
          "base_uri": "https://localhost:8080/"
        },
        "id": "Y3w7yAOHpXtS",
        "outputId": "0c4ddade-78ed-4b0d-fb28-62d93e90faa6"
      },
      "execution_count": 3,
      "outputs": [
        {
          "output_type": "stream",
          "name": "stdout",
          "text": [
            "Dados carregados com sucesso.\n",
            "Colunas: ['Nome', 'Idade', 'Nota']\n",
            "Resumo:\n",
            "            Idade      Nota\n",
            "count   3.000000  4.000000\n",
            "mean   24.333333  7.900000\n",
            "std     6.110101  1.080123\n",
            "min    19.000000  6.800000\n",
            "25%    21.000000  7.100000\n",
            "50%    23.000000  7.850000\n",
            "75%    27.000000  8.650000\n",
            "max    31.000000  9.100000\n",
            "Filtro por nome == Ana:\n",
            "   Nome  Idade  Nota\n",
            "0  Ana   23.0   8.5\n",
            "3  Ana    NaN   6.8\n",
            "Linhas com nulos:\n",
            "   Nome  Idade  Nota\n",
            "3  Ana    NaN   6.8\n"
          ]
        }
      ]
    }
  ]
}