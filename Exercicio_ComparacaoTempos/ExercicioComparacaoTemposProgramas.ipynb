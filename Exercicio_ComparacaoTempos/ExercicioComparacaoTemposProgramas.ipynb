{
 "cells": [
  {
   "cell_type": "markdown",
   "metadata": {},
   "source": [
    "# Aluno: Bruno Felipe de Souza Araujo\n",
    "# Exerc: Comparação de desempenho de programas"
   ]
  },
  {
   "cell_type": "code",
   "execution_count": 1,
   "metadata": {},
   "outputs": [],
   "source": [
    "import timeit\n",
    "import random\n",
    "\n",
    "# Criando uma lista grande de números aleatórios (entre 1 e 100.000)\n",
    "random_numbers = [random.randint(1, 100000) for _ in range(1_000_000)]"
   ]
  },
  {
   "cell_type": "code",
   "execution_count": 2,
   "metadata": {},
   "outputs": [],
   "source": [
    "# Abordagem ingênua: Usando laços for e verificações manuais\n",
    "# Abordagem 1: Usando loops para garantir números únicos antes da soma\n",
    "\n",
    "def sum_unique_slow(numbers):\n",
    "    unique_numbers = []\n",
    "    for num in numbers:\n",
    "        if num not in unique_numbers:\n",
    "            unique_numbers.append(num)\n",
    "    return sum(unique_numbers)"
   ]
  },
  {
   "cell_type": "code",
   "execution_count": 3,
   "metadata": {},
   "outputs": [],
   "source": [
    "# Abordagem otimizada: Usando set() para eliminar duplicatas antes de somar\n",
    "# Abordagem 2: Usando set() para eliminar duplicatas rapidamente\n",
    "\n",
    "def sum_unique_fast(numbers):\n",
    " return sum(set(numbers))\n"
   ]
  },
  {
   "cell_type": "code",
   "execution_count": 4,
   "metadata": {},
   "outputs": [],
   "source": [
    "# Medindo o tempo de execução das duas abordagens\n",
    "slow_time = timeit.timeit(lambda: sum_unique_slow(random_numbers), number=1)\n",
    "fast_time = timeit.timeit(lambda: sum_unique_fast(random_numbers), number=1)"
   ]
  },
  {
   "cell_type": "code",
   "execution_count": 5,
   "metadata": {},
   "outputs": [
    {
     "name": "stdout",
     "output_type": "stream",
     "text": [
      "Tempo de execução - Abordagem lenta: 936.3456 segundos\n",
      "Tempo de execução - Abordagem rápida: 0.1086 segundos\n"
     ]
    }
   ],
   "source": [
    "# Exibindo os resultados\n",
    "print(f\"Tempo de execução - Abordagem lenta: {slow_time:.4f} segundos\")\n",
    "print(f\"Tempo de execução - Abordagem rápida: {fast_time:.4f} segundos\")"
   ]
  },
  {
   "cell_type": "code",
   "execution_count": 6,
   "metadata": {},
   "outputs": [
    {
     "name": "stdout",
     "output_type": "stream",
     "text": [
      "A abordagem otimizada foi aproximadamente 8624.60 vezes mais rápida.\n"
     ]
    }
   ],
   "source": [
    "# Comparação\n",
    "print(f\"A abordagem otimizada foi aproximadamente {slow_time / fast_time:.2f} vezes mais rápida.\")"
   ]
  },
  {
   "cell_type": "markdown",
   "metadata": {},
   "source": [
    "# Modificação da abordagem ingênua para otimização sem o uso de set()"
   ]
  },
  {
   "cell_type": "code",
   "execution_count": 7,
   "metadata": {},
   "outputs": [],
   "source": [
    "def sum_unique_optimized(numbers):\n",
    "    unique_numbers = {}\n",
    "    for num in numbers:\n",
    "        unique_numbers[num] = True\n",
    "    return sum(unique_numbers.keys())"
   ]
  },
  {
   "cell_type": "code",
   "execution_count": 8,
   "metadata": {},
   "outputs": [],
   "source": [
    "# Medindo o tempo de execução da abordagem otimizada e abordagem com set()\n",
    "slow_time = timeit.timeit(lambda: sum_unique_optimized(random_numbers), number=1)\n",
    "fast_time = timeit.timeit(lambda: sum_unique_fast(random_numbers), number=1)"
   ]
  },
  {
   "cell_type": "code",
   "execution_count": 9,
   "metadata": {},
   "outputs": [
    {
     "name": "stdout",
     "output_type": "stream",
     "text": [
      "Tempo de execução - Abordagem lenta otimizada: 0.2890 segundos\n",
      "Tempo de execução - Abordagem rápida: 0.1337 segundos\n"
     ]
    }
   ],
   "source": [
    "# Exibindo os resultados\n",
    "print(f\"Tempo de execução - Abordagem lenta otimizada: {slow_time:.4f} segundos\")\n",
    "print(f\"Tempo de execução - Abordagem rápida: {fast_time:.4f} segundos\")"
   ]
  },
  {
   "cell_type": "markdown",
   "metadata": {},
   "source": [
    "# Outras implementações para estudo e comparações de tempos"
   ]
  },
  {
   "cell_type": "code",
   "execution_count": null,
   "metadata": {},
   "outputs": [],
   "source": [
    "import bisect\n",
    "from collections import Counter\n",
    "from collections import defaultdict\n",
    "from itertools import groupby\n",
    "\n",
    "# Abordagem com Lista Ordenada e bisect (O(n log n))\n",
    "def sum_unique_bisect(numbers):\n",
    "    unique_numbers = []\n",
    "    for num in numbers:\n",
    "        index = bisect.bisect_left(unique_numbers, num)\n",
    "        if index == len(unique_numbers) or unique_numbers[index] != num:\n",
    "            bisect.insort(unique_numbers, num)\n",
    "    return sum(unique_numbers)\n",
    "\n",
    "# Abordagem com Counter (O(n))\n",
    "def sum_unique_counter(numbers):\n",
    "    return sum(Counter(numbers).keys())\n",
    "\n",
    "# Usando defaultdict (O(n))\n",
    "def sum_unique_defaultdict(numbers):\n",
    "    unique_numbers = defaultdict(bool)\n",
    "    for num in numbers:\n",
    "        unique_numbers[num] = True\n",
    "    return sum(unique_numbers.keys())\n",
    "\n",
    "# Usando sorted() e groupby (O(n log n))\n",
    "def sum_unique_groupby(numbers):\n",
    "    return sum(k for k, _ in groupby(sorted(numbers)))\n",
    "\n",
    "# Algoritmo de Troca no Próprio Array (O(n log n), Menos Memória)\n",
    "def sum_unique_inplace(numbers):\n",
    "    numbers.sort()\n",
    "    unique_sum = numbers[0]\n",
    "\n",
    "    for i in range(1, len(numbers)):\n",
    "        if numbers[i] != numbers[i - 1]:\n",
    "            unique_sum += numbers[i]\n",
    "\n",
    "    return unique_sum\n",
    "\n",
    "# Usando Filtragem filter() e dict.fromkeys() (O(n))\n",
    "def sum_unique_fromkeys(numbers):\n",
    "    return sum(dict.fromkeys(numbers))"
   ]
  },
  {
   "cell_type": "code",
   "execution_count": 16,
   "metadata": {},
   "outputs": [
    {
     "name": "stdout",
     "output_type": "stream",
     "text": [
      "Original (O(n²)): 919.2476\n",
      "Otimizada com dict (O(n)): 0.2047\n",
      "Ordenada + bisect (O(n log n)): 3.5582\n",
      "Com Counter (O(n)): 0.2307\n",
      "Usando defaultdict (O(n)): 0.2297\n",
      "Usando sorted() e groupby (O(n log n)): 0.2278\n",
      "Troca no Próprio Array (O(n log n): 0.2438\n",
      "Usando Filtragem filter() e dict.fromkeys() (O(n)): 0.2306\n"
     ]
    }
   ],
   "source": [
    "# Gerando uma lista de números aleatórios grandes\n",
    "numbers = [random.randint(1, 100000) for _ in range(1_000_000)]\n",
    "\n",
    "# Medindo tempos de execução\n",
    "print(\"Original (O(n²)):\", f\"{timeit.timeit(lambda: sum_unique_slow(numbers), number=1):.4f}\")\n",
    "print(\"Otimizada com dict (O(n)):\", f\"{timeit.timeit(lambda: sum_unique_optimized(numbers), number=1):.4f}\")\n",
    "print(\"Ordenada + bisect (O(n log n)):\", f\"{timeit.timeit(lambda: sum_unique_bisect(numbers), number=1):.4f}\")\n",
    "print(\"Com Counter (O(n)):\", f\"{timeit.timeit(lambda: sum_unique_counter(numbers), number=1):.4f}\")\n",
    "print(\"Usando defaultdict (O(n)):\", f\"{timeit.timeit(lambda: sum_unique_counter(numbers), number=1):.4f}\")\n",
    "print(\"Usando sorted() e groupby (O(n log n)):\", f\"{timeit.timeit(lambda: sum_unique_counter(numbers), number=1):.4f}\")\n",
    "print(\"Troca no Próprio Array (O(n log n):\", f\"{timeit.timeit(lambda: sum_unique_counter(numbers), number=1):.4f}\")\n",
    "print(\"Usando Filtragem filter() e dict.fromkeys() (O(n)):\", f\"{timeit.timeit(lambda: sum_unique_counter(numbers), number=1):.4f}\")"
   ]
  },
  {
   "cell_type": "markdown",
   "metadata": {},
   "source": [
    "# Estudo funcionamento de Set()"
   ]
  },
  {
   "cell_type": "code",
   "execution_count": 17,
   "metadata": {},
   "outputs": [
    {
     "name": "stdout",
     "output_type": "stream",
     "text": [
      "{1, 2, 3, 4, 5, 6}\n"
     ]
    }
   ],
   "source": [
    "# 1-Criar um conjunto e remover duplicatas:\n",
    "numeros = [1, 2, 3, 3, 4, 5, 5, 6]\n",
    "conjunto = set(numeros) # Converte a lista em um conjunto\n",
    "print(conjunto) # Saída: {1, 2, 3, 4, 5, 6}"
   ]
  },
  {
   "cell_type": "code",
   "execution_count": 18,
   "metadata": {},
   "outputs": [
    {
     "name": "stdout",
     "output_type": "stream",
     "text": [
      "True\n",
      "False\n"
     ]
    }
   ],
   "source": [
    "# 2- Verificar se um elemento está no conjunto:\n",
    "print(3 in conjunto) # Saída: True\n",
    "print(10 in conjunto) # Saída: False"
   ]
  },
  {
   "cell_type": "code",
   "execution_count": 19,
   "metadata": {},
   "outputs": [
    {
     "name": "stdout",
     "output_type": "stream",
     "text": [
      "{1, 3, 4, 5, 6, 7}\n"
     ]
    }
   ],
   "source": [
    "# 3-Adicionar e remover elementos\n",
    "conjunto.add(7) # Adiciona um novo elemento\n",
    "conjunto.remove(2) # Remove um elemento existente\n",
    "print(conjunto) # Saída: {1, 3, 4, 5, 6, 7}"
   ]
  },
  {
   "cell_type": "code",
   "execution_count": 20,
   "metadata": {},
   "outputs": [
    {
     "name": "stdout",
     "output_type": "stream",
     "text": [
      "{1, 2, 3, 4, 5, 6}\n",
      "{3, 4}\n",
      "{1, 2}\n",
      "{1, 2, 5, 6}\n"
     ]
    }
   ],
   "source": [
    "# 4-Operações entre conjuntos\n",
    "A = {1, 2, 3, 4}\n",
    "B = {3, 4, 5, 6}\n",
    "print(A | B) # União: {1, 2, 3, 4, 5, 6}\n",
    "print(A & B) # Interseção: {3, 4}\n",
    "print(A - B) # Diferença: {1, 2} (elementos de A que não estão em B)\n",
    "print(A ^ B) # Diferença simétrica: {1, 2, 5, 6} (elementos que estão em um dos conjuntos, mas não em ambos)"
   ]
  }
 ],
 "metadata": {
  "kernelspec": {
   "display_name": "FatecVenv",
   "language": "python",
   "name": "python3"
  },
  "language_info": {
   "codemirror_mode": {
    "name": "ipython",
    "version": 3
   },
   "file_extension": ".py",
   "mimetype": "text/x-python",
   "name": "python",
   "nbconvert_exporter": "python",
   "pygments_lexer": "ipython3",
   "version": "3.13.2"
  }
 },
 "nbformat": 4,
 "nbformat_minor": 2
}
