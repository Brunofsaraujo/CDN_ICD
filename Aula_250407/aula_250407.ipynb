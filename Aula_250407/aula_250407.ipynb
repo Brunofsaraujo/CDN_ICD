{
 "cells": [
  {
   "cell_type": "markdown",
   "id": "91a86880",
   "metadata": {},
   "source": [
    "Bruno Felipe de Souza Araujo\n",
    "3º Semestre CDN - Fatec Votorantim"
   ]
  },
  {
   "cell_type": "code",
   "execution_count": null,
   "id": "cdc20af3",
   "metadata": {},
   "outputs": [
    {
     "name": "stdout",
     "output_type": "stream",
     "text": [
      "Cliente: Leonardo da Luz\n",
      " CPF: 376.401.852-62\n",
      " Email: barbara06@example.org\n",
      " Endereço: Viela Emilly Albuquerque\n",
      "Conjunto Califórnia Ii\n",
      "15630921 Fonseca de Alves / PR\n",
      " Data de Nascimento: 1972-09-03\n",
      "----------------------------------------\n",
      "Cliente: Alexia Souza\n",
      " CPF: 806.971.423-96\n",
      " Email: pandrade@example.com\n",
      " Endereço: Vila Leão, 86\n",
      "Vila São João Batista\n",
      "76718356 Ferreira do Oeste / TO\n",
      " Data de Nascimento: 2001-09-06\n",
      "----------------------------------------\n",
      "Cliente: Rafaela Guerra\n",
      " CPF: 639.174.580-39\n",
      " Email: mourafernando@example.net\n",
      " Endereço: Esplanada Vieira, 7\n",
      "Glória\n",
      "20916689 Brito da Serra / MA\n",
      " Data de Nascimento: 1987-09-03\n",
      "----------------------------------------\n",
      "Cliente: Isaac Peixoto\n",
      " CPF: 047.128.695-85\n",
      " Email: stella35@example.com\n",
      " Endereço: Estrada Alícia Camargo\n",
      "Vila Sesc\n",
      "97358-392 Viana da Mata / MT\n",
      " Data de Nascimento: 2003-06-23\n",
      "----------------------------------------\n",
      "Cliente: Maria Clara Mendonça\n",
      " CPF: 316.048.257-07\n",
      " Email: emanuelfernandes@example.net\n",
      " Endereço: Ladeira Leão, 94\n",
      "Solar Do Barreiro\n",
      "36603595 da Cunha / AP\n",
      " Data de Nascimento: 2001-03-11\n",
      "----------------------------------------\n"
     ]
    }
   ],
   "source": [
    "from faker import Faker\n",
    "\n",
    "fake = Faker('pt_BR')\n",
    "clientes = {}\n",
    "\n",
    "for _ in range(5):\n",
    "    nome = fake.name()\n",
    "    dados = {\n",
    "        'CPF': fake.cpf(),\n",
    "        'Email': fake.email(),\n",
    "        'Endereço': fake.address(),\n",
    "        'Data de Nascimento': fake.date_of_birth(minimum_age=18, maximum_age=65)\n",
    "    }\n",
    "    clientes [nome] = dados\n",
    "\n",
    "# Exibir os dados\n",
    "for nome, info in clientes.items():\n",
    "    print(f\"Cliente: {nome}\")\n",
    "    for chave, valor in info.items():\n",
    "        print(f\" {chave}: {valor}\")\n",
    "    print(\"-\" * 40)"
   ]
  },
  {
   "cell_type": "markdown",
   "id": "48809d6d",
   "metadata": {},
   "source": [
    "2. Dicionários em Python\n",
    "•\tO\tque\tacontece\tse\tvocê\ttentar\tacessar\tuma\tchave\tque\tnão\texiste?\n",
    "    R: Ao tentar acessar uma chave que não existe em dicionário em python gera um erro KeyError.\n",
    "\n",
    "•\tÉ\tpossível\tadicionar\tuma\tnova\tchave\tao\tdicionário\tdepois\tde\tcriado?\n",
    "    R: Sim é possivel adicionar uma nova chave ao dicionário depois de criado, e será demonstrado na sequencia."
   ]
  },
  {
   "cell_type": "code",
   "execution_count": null,
   "id": "3e69f1d7",
   "metadata": {},
   "outputs": [
    {
     "name": "stdout",
     "output_type": "stream",
     "text": [
      "1. Tentando acessar uma chave inexistente diretamente (gera KeyError):\n",
      "KeyError: 'João'\n",
      "\n",
      "2. Formas seguras de acessar chaves:\n",
      "Usando get(): None\n",
      "Usando get() com valor padrão: Cliente não encontrado\n",
      "\n",
      "3. Verificando se a chave existe antes de acessar:\n",
      "Cliente João não encontrado\n"
     ]
    }
   ],
   "source": [
    "print(\"1. Tentando acessar uma chave inexistente diretamente (gera KeyError):\")\n",
    "try:\n",
    "    print(clientes['João'])  # chave que não existe\n",
    "except KeyError as e:\n",
    "    print(f\"KeyError: {e}\")\n",
    "\n",
    "print(\"\\n2. Formas seguras de acessar chaves:\")\n",
    "# Usando get() (retorna None ou valor padrão)\n",
    "print(\"Usando get():\", clientes.get('João'))\n",
    "print(\"Usando get() com valor padrão:\", clientes.get('João', 'Cliente não encontrado'))\n",
    "\n",
    "# Usando in para verificar existência\n",
    "print(\"\\n3. Verificando se a chave existe antes de acessar:\")\n",
    "cliente_busca = 'João'\n",
    "if cliente_busca in clientes:\n",
    "    print(f\"Cliente {cliente_busca} encontrado\")\n",
    "else:\n",
    "    print(f\"Cliente {cliente_busca} não encontrado\")"
   ]
  },
  {
   "cell_type": "code",
   "execution_count": 3,
   "id": "e4497520",
   "metadata": {},
   "outputs": [
    {
     "name": "stdout",
     "output_type": "stream",
     "text": [
      "Cliente novo adicionado:\n",
      "Nome: Ana Silva\n",
      "CPF: 275.639.804-74\n",
      "Email: esousa@example.net\n",
      "Endereço: Núcleo Silva, 214\n",
      "Diamante\n",
      "84457428 Gonçalves Grande / PA\n",
      "Data de Nascimento: 1978-08-23\n",
      "Telefone: +55 (071) 0846 1429\n"
     ]
    }
   ],
   "source": [
    "novo_cliente = \"Ana Silva\"\n",
    "novos_dados = {\n",
    "    'CPF': fake.cpf(),\n",
    "    'Email': fake.email(),\n",
    "    'Endereço': fake.address(),\n",
    "    'Data de Nascimento': fake.date_of_birth(minimum_age=18, maximum_age=65),\n",
    "    'Telefone': fake.phone_number()\n",
    "}\n",
    "clientes[novo_cliente] = novos_dados\n",
    "\n",
    "for nome in clientes:\n",
    "    if 'Telefone' not in clientes[nome]:\n",
    "        clientes[nome]['Telefone'] = fake.phone_number()\n",
    "\n",
    "print(\"Cliente novo adicionado:\")\n",
    "print(f\"Nome: {novo_cliente}\")\n",
    "for chave, valor in clientes[novo_cliente].items():\n",
    "    print(f\"{chave}: {valor}\")"
   ]
  },
  {
   "cell_type": "code",
   "execution_count": 4,
   "id": "17767446",
   "metadata": {},
   "outputs": [
    {
     "name": "stdout",
     "output_type": "stream",
     "text": [
      "Tupla: (3.5, 7.2, 0.0)\n",
      "Erro ao tentar alterar a tupla: 'tuple' object does not support item assignment\n",
      "Segundo valor (índice 1): 7.2\n",
      "Existe o valor 7.2? True\n",
      "População de São Paulo: 12000000\n"
     ]
    }
   ],
   "source": [
    "coordenadas = (3.5, 7.2, 0.0)\n",
    "print(\"Tupla:\", coordenadas)\n",
    "try:\n",
    "    coordenadas[0] = 10\n",
    "except TypeError as e:\n",
    "    print(\"Erro ao tentar alterar a tupla:\", e)\n",
    "print(\"Segundo valor (índice 1):\", coordenadas [1])\n",
    "print(\"Existe o valor 7.2?\", 7.2 in coordenadas)\n",
    "PI = (3.14159,)\n",
    "RGB_BRANCO = (255, 255, 255)\n",
    "dias_da_semana = ('segunda', 'terça', 'quarta', 'quinta', 'sexta', 'sábado', 'domingo')\n",
    "cidades = {\n",
    "    ('São Paulo', 'SP'): 12_000_000,\n",
    "    ('Rio de Janeiro', 'RJ'): 6_700_000\n",
    "}\n",
    "print(\"População de São Paulo:\", cidades [('São Paulo', 'SP')])"
   ]
  },
  {
   "cell_type": "markdown",
   "id": "1f659f4b",
   "metadata": {},
   "source": [
    "3. Tuplas\n",
    "•\tO\tque\tacontece\tse\tvocê\ttentar\talterar\tum\tvalor\tde\tuma\ttupla?\n",
    "    R: Erro ao tentar alterar a tupla: 'tuple' object does not support item assignment.\n",
    "\n",
    "•\tQuando seria melhor\tusar uma tupla em vez de uma lista?\n",
    "    R: Seria melhor usar tupla ao invés de uma lista quando:\n",
    "        1. Os dados não devem mudar (imutabilidade)\n",
    "           Tuplas são imutáveis, ou seja, não podem ser alteradas depois de criadas. Isso é útil quando\n",
    "           você quer garantir que os dados não sejam modificados por engano.\n",
    "        2. Você quer usar como chave em um dicionário ou colocar em um set\n",
    "           Só objetos imutáveis podem ser usados como chave em um dicionário ou dentro de um set.\n",
    "        3. A estrutura representa um \"registro\" fixo de dados\n",
    "           Tuplas funcionam bem como uma estrutura leve de dados, parecida com um registro.\n",
    "        4. Performance é uma preocupação\n",
    "           Tuplas são levemente mais rápidas e ocupam menos memória que listas.\n",
    "\n",
    "•\tComo se\tacessa\tos\telementos\tde\tuma\ttupla?\n",
    "    R: Acessando por índice\n",
    "            pessoa = (\"João\", 30, \"Engenheiro\")\n",
    "            print(pessoa[0])  # \"João\"\n",
    "            print(pessoa[1])  # 30\n",
    "            print(pessoa[2])  # \"Engenheiro\"\n",
    "\n",
    "       Acessando com índice negativo (do fim pro começo)\n",
    "            print(pessoa[-1])  # \"Engenheiro\"\n",
    "            print(pessoa[-2])  # 30\n",
    "\n",
    "       Iterando com for\n",
    "            for item in pessoa:\n",
    "            print(item)\n",
    "\n",
    "       Desempacotamento\n",
    "            nome, idade, profissao = pessoa\n",
    "            print(nome)      # João\n",
    "            print(idade)     # 30\n",
    "            print(profissao) # Engenheiro"
   ]
  },
  {
   "cell_type": "code",
   "execution_count": null,
   "id": "d77381dd",
   "metadata": {},
   "outputs": [
    {
     "name": "stdout",
     "output_type": "stream",
     "text": [
      "<class 'numpy.ndarray'>\n",
      "[ 2  3  5  7 11]\n"
     ]
    }
   ],
   "source": [
    "import numpy as np\n",
    "\n",
    "numeros = np.array([2,3,5,7,11])\n",
    "print(type(numeros))\n",
    "print(numeros)"
   ]
  },
  {
   "cell_type": "code",
   "execution_count": 9,
   "id": "b203f071",
   "metadata": {},
   "outputs": [
    {
     "name": "stdout",
     "output_type": "stream",
     "text": [
      "[[1 2 3]\n",
      " [4 5 6]]\n",
      "[0.  0.1 0.3 0.4]\n",
      "2\n",
      "1\n",
      "(2, 3)\n",
      "(4,)\n",
      "6\n",
      "8\n",
      "4\n",
      "8\n",
      "123\n",
      "456\n"
     ]
    }
   ],
   "source": [
    "np.array([[1,2,3], [4,5,6]])\n",
    "inteiros = np.array([[1,2,3], [4,5,6]])\n",
    "print(inteiros)\n",
    "reais = np.array([0.0,0.1,0.3,0.4])\n",
    "print(reais)\n",
    "\n",
    "inteiros.dtype\n",
    "reais.dtype\n",
    "\n",
    "print(inteiros.ndim)\n",
    "print(reais.ndim)\n",
    "print(inteiros.shape)\n",
    "print(reais.shape)\n",
    "\n",
    "print(inteiros.size)\n",
    "print(inteiros.itemsize)\n",
    "print(reais.size)\n",
    "print(reais.itemsize)\n",
    "\n",
    "for row in inteiros:\n",
    "    for column in row:\n",
    "        print(column, end= \"\")\n",
    "    print()"
   ]
  },
  {
   "cell_type": "code",
   "execution_count": 11,
   "id": "b0ea7352",
   "metadata": {},
   "outputs": [
    {
     "data": {
      "text/plain": [
       "array([0., 0., 0., 0., 0.])"
      ]
     },
     "execution_count": 11,
     "metadata": {},
     "output_type": "execute_result"
    }
   ],
   "source": [
    "np.zeros(5)\n"
   ]
  },
  {
   "cell_type": "code",
   "execution_count": 12,
   "id": "62cdec81",
   "metadata": {},
   "outputs": [
    {
     "data": {
      "text/plain": [
       "array([[1, 1, 1, 1],\n",
       "       [1, 1, 1, 1]])"
      ]
     },
     "execution_count": 12,
     "metadata": {},
     "output_type": "execute_result"
    }
   ],
   "source": [
    "np.ones((2,4), dtype=int)\n"
   ]
  },
  {
   "cell_type": "code",
   "execution_count": 13,
   "id": "d2e126c7",
   "metadata": {},
   "outputs": [
    {
     "data": {
      "text/plain": [
       "array([[13, 13, 13, 13, 13],\n",
       "       [13, 13, 13, 13, 13],\n",
       "       [13, 13, 13, 13, 13]])"
      ]
     },
     "execution_count": 13,
     "metadata": {},
     "output_type": "execute_result"
    }
   ],
   "source": [
    "np.full((3,5), 13)"
   ]
  },
  {
   "cell_type": "code",
   "execution_count": 15,
   "id": "d5e3f343",
   "metadata": {},
   "outputs": [
    {
     "data": {
      "text/plain": [
       "array([0.  , 0.25, 0.5 , 0.75, 1.  ])"
      ]
     },
     "execution_count": 15,
     "metadata": {},
     "output_type": "execute_result"
    }
   ],
   "source": [
    "np.linspace(0.0,1.0,num=5)"
   ]
  },
  {
   "cell_type": "code",
   "execution_count": 16,
   "id": "887b6708",
   "metadata": {},
   "outputs": [
    {
     "data": {
      "text/plain": [
       "array([[ 1,  2,  3,  4,  5],\n",
       "       [ 6,  7,  8,  9, 10],\n",
       "       [11, 12, 13, 14, 15],\n",
       "       [16, 17, 18, 19, 20]])"
      ]
     },
     "execution_count": 16,
     "metadata": {},
     "output_type": "execute_result"
    }
   ],
   "source": [
    "np.arange(1,21).reshape(4,5)"
   ]
  },
  {
   "cell_type": "code",
   "execution_count": 17,
   "id": "f20ae59c",
   "metadata": {},
   "outputs": [
    {
     "data": {
      "text/plain": [
       "array([[     1,      2,      3, ...,  24998,  24999,  25000],\n",
       "       [ 25001,  25002,  25003, ...,  49998,  49999,  50000],\n",
       "       [ 50001,  50002,  50003, ...,  74998,  74999,  75000],\n",
       "       [ 75001,  75002,  75003, ...,  99998,  99999, 100000]],\n",
       "      shape=(4, 25000))"
      ]
     },
     "execution_count": 17,
     "metadata": {},
     "output_type": "execute_result"
    }
   ],
   "source": [
    "np.arange(1,100001).reshape(4,25000)"
   ]
  },
  {
   "cell_type": "code",
   "execution_count": 18,
   "id": "0cfbbc56",
   "metadata": {},
   "outputs": [
    {
     "data": {
      "text/plain": [
       "array([[     1,      2,      3, ...,    998,    999,   1000],\n",
       "       [  1001,   1002,   1003, ...,   1998,   1999,   2000],\n",
       "       [  2001,   2002,   2003, ...,   2998,   2999,   3000],\n",
       "       ...,\n",
       "       [ 97001,  97002,  97003, ...,  97998,  97999,  98000],\n",
       "       [ 98001,  98002,  98003, ...,  98998,  98999,  99000],\n",
       "       [ 99001,  99002,  99003, ...,  99998,  99999, 100000]],\n",
       "      shape=(100, 1000))"
      ]
     },
     "execution_count": 18,
     "metadata": {},
     "output_type": "execute_result"
    }
   ],
   "source": [
    "np.arange(1,100001).reshape(100,1000)"
   ]
  },
  {
   "cell_type": "markdown",
   "id": "361087b0",
   "metadata": {},
   "source": [
    "4. Arrays NumPy\n",
    "•\tQual\té\to\ttipo\tde\tdados\tarmazenado\tem\tum\t array?\tComo\tverificar\tisso?\n",
    "    R: O tipo de dados em um array NumPy é controlado pelo atributo .dtype\n",
    "\n",
    "    import numpy as np\n",
    "    arr = np.array([1, 2, 3])\n",
    "    print(arr.dtype)  # int64, por exemplo\n",
    "\n",
    "•\tTodos\tos\telementos\ttêm\to\tmesmo\ttipo?\n",
    "    R: Sim, todos os elementos de um array NumPy têm o mesmo tipo.\n",
    "        Isso é o que diferencia ele de uma lista Python\n",
    "\n",
    "•\tQual\ta\tdiferença\tentre\tarange()\te\tlinspace()?\n",
    "    R:  np.arange(início, fim, passo)\n",
    "            Cria uma sequência com espaçamento fixo (como range())\n",
    "            np.arange(0, 5, 1) → [0, 1, 2, 3, 4]\n",
    "        np.linspace(início, fim, num)\n",
    "            Cria um array com quantidade fixa de elementos igualmente espaçados\n",
    "            np.linspace(0, 5, 5) → [0. , 1.25, 2.5, 3.75, 5.]\n",
    "\n",
    "        arange() quando se sabe o passo.\n",
    "        linspace() quando se sabe o número de pontos que quer.\n",
    "\n",
    "•\tPara\tque\tserve\ta\tfunção\treshape()?\n",
    "    R: A função reshape() muda a forma (shape) de um array sem alterar os dados.\n",
    "        a = np.arange(6)  # [0 1 2 3 4 5]\n",
    "        b = a.reshape((2, 3))\n",
    "        print(b)\n",
    "        # [[0 1 2]\n",
    "        #  [3 4 5]]"
   ]
  },
  {
   "cell_type": "code",
   "execution_count": 19,
   "id": "bab0d893",
   "metadata": {},
   "outputs": [
    {
     "name": "stdout",
     "output_type": "stream",
     "text": [
      "Tempo: 4.9500 segundos\n"
     ]
    }
   ],
   "source": [
    "import random\n",
    "import time\n",
    "\n",
    "start = time.time()\n",
    "rolls_list = [random.randint(1, 6) for _ in range(6_000_000)]\n",
    "end = time.time()\n",
    "print(f\"Tempo: {end - start:.4f} segundos\")"
   ]
  },
  {
   "cell_type": "code",
   "execution_count": 20,
   "id": "470019f5",
   "metadata": {},
   "outputs": [
    {
     "name": "stdout",
     "output_type": "stream",
     "text": [
      "Tempo: 3.4836 segundos\n"
     ]
    }
   ],
   "source": [
    "import numpy as np\n",
    "import time\n",
    "\n",
    "start = time.time()\n",
    "rolls_array = np.random.randint(1, 7, size=6_000_000)\n",
    "end = time.time()\n",
    "print(f\"Tempo: {end - start:.4f} segundos\")"
   ]
  },
  {
   "cell_type": "markdown",
   "id": "d37a4bfb",
   "metadata": {},
   "source": [
    "5. Performance: lista vs array\n",
    "•\tQual\testrutura\tfoi\tmais\trápida?\tPor\tquê?\n",
    "    R:  A execução do array foi mais rápida devido a tipagem ser fixa para todos os elementos,\n",
    "        devido ao fato do numPy ser implementado em C e NumPy faz operações com arrays\n",
    "        inteiros de uma vez (sem loops explícitos)."
   ]
  },
  {
   "cell_type": "code",
   "execution_count": 22,
   "id": "7822ec47",
   "metadata": {},
   "outputs": [
    {
     "name": "stdout",
     "output_type": "stream",
     "text": [
      "[1 2 3 4 5]\n",
      "[ 2  4  6  8 10]\n",
      "[  1   8  27  64 125]\n",
      "[1 2 3 4 5]\n",
      "[ 2  4  6  8 10]\n",
      "[1.1 2.2 3.3 4.4 5.5]\n",
      "[ 1.1  4.4  9.9 17.6 27.5]\n"
     ]
    }
   ],
   "source": [
    "numeros = np.arange(1,6)\n",
    "print(numeros)\n",
    "print(numeros * 2)\n",
    "print(numeros ** 3)\n",
    "print(numeros)\n",
    "\n",
    "print(numeros * [2,2,2,2,2])\n",
    "\n",
    "numeros2 = np.linspace(1.1,5.5,5)\n",
    "print(numeros2)\n",
    "print(numeros * numeros2)"
   ]
  },
  {
   "cell_type": "code",
   "execution_count": 23,
   "id": "03990ab7",
   "metadata": {},
   "outputs": [
    {
     "name": "stdout",
     "output_type": "stream",
     "text": [
      "[False False  True  True  True]\n",
      "[ True  True  True  True  True]\n",
      "[False False False False False]\n",
      "[ True  True  True  True  True]\n"
     ]
    }
   ],
   "source": [
    "numeros = np.array([11,12,13,14,15])\n",
    "print(numeros >= 13)\n",
    "numeros2 = np.array([1.1,2.2,3.3,4.4,5.5])\n",
    "print(numeros2 < numeros)\n",
    "print(numeros2 == numeros)\n",
    "print(numeros2 != numeros)"
   ]
  },
  {
   "cell_type": "code",
   "execution_count": 24,
   "id": "fdb87a39",
   "metadata": {},
   "outputs": [
    {
     "name": "stdout",
     "output_type": "stream",
     "text": [
      "1054\n",
      "70\n",
      "100\n",
      "87.83333333333333\n",
      "8.792357792739987\n",
      "77.30555555555556\n"
     ]
    }
   ],
   "source": [
    "notas = np.array([[87,96,70], [100,87,90], [94,77,90], [100,81,82]])\n",
    "print(notas.sum())\n",
    "print(notas.min())\n",
    "print(notas.max())\n",
    "print(notas.mean())\n",
    "print(notas.std())\n",
    "print(notas.var())"
   ]
  },
  {
   "cell_type": "code",
   "execution_count": null,
   "id": "670442b4",
   "metadata": {},
   "outputs": [
    {
     "name": "stdout",
     "output_type": "stream",
     "text": [
      "[95.25 85.25 83.  ]\n"
     ]
    }
   ],
   "source": [
    "print(notas.mean(axis=0))"
   ]
  },
  {
   "cell_type": "code",
   "execution_count": 26,
   "id": "b227840d",
   "metadata": {},
   "outputs": [
    {
     "name": "stdout",
     "output_type": "stream",
     "text": [
      "[84.33333333 92.33333333 87.         87.66666667]\n"
     ]
    }
   ],
   "source": [
    "print(notas.mean(axis=1))"
   ]
  },
  {
   "cell_type": "markdown",
   "id": "d0291334",
   "metadata": {},
   "source": [
    "6. Operadores e broadcasting\n",
    "•\tO\tque\tacontece\tse\tos\tarrays\ttiverem\ttamanhos\tdiferentes?\n",
    "    R:  Se os tamanhos forem compatíveis via broadcasting, a operação é feita. Se não forem, o NumPy lança um erro.\n",
    "        a = np.array([1, 2, 3])\n",
    "        b = np.array([10, 20])\n",
    "        print(a + b)  # ValueError: shapes (3,) and (2,) not compatible\n",
    "\n",
    "•\tA\toperação\tfoi\tfeita\telemento\ta\telemento?\tComo\tvocê\tsabe?\n",
    "    R:  Todas as operações com arrays NumPy são feitas elemento a elemento, desde que os shapes sejam compatíveis.\n",
    "        - As saídas mostram os resultados de cada par de elementos.\n",
    "        - NumPy é projetado para operações vetorizadas, que são, por definição, feitas elemento por elemento.\n",
    "        - Se você fizer a operação manualmente em um loop, os resultados batem"
   ]
  },
  {
   "cell_type": "code",
   "execution_count": 27,
   "id": "b06c7944",
   "metadata": {},
   "outputs": [
    {
     "name": "stdout",
     "output_type": "stream",
     "text": [
      "[1. 2. 3. 4. 5. 6.]\n",
      "[10 20 30 40 50 60]\n",
      "[ 50 100 150 200 250 300]\n",
      "[[10 20 30]\n",
      " [40 50 60]]\n",
      "[[ 20  80 180]\n",
      " [ 80 200 360]]\n"
     ]
    }
   ],
   "source": [
    "numeros = np.array([1,4,9,16,25,36])\n",
    "print(np.sqrt(numeros))\n",
    "numeros2 = np.arange(1,7) * 10\n",
    "print(numeros2)\n",
    "\n",
    "np.add(numeros, numeros2)\n",
    "print(np.multiply(numeros2,5))\n",
    "\n",
    "numeros3 = numeros2.reshape((2,3))\n",
    "print(numeros3)\n",
    "numeros4 = np.array([2,4,6])\n",
    "print(np.multiply(numeros3, numeros4))"
   ]
  },
  {
   "cell_type": "markdown",
   "id": "19213070",
   "metadata": {},
   "source": [
    "7. ufuncs (funções universais)\n",
    "•\tO\tque\ta\tfunção\tfaz\texatamente?\n",
    "    R:  Uma ufunc (universal function) aplica operações matemáticas elemento a elemento de forma vetorizada.\n",
    "        np.add, np.subtract, np.multiply, np.divide\n",
    "        np.sqrt, np.sin, np.exp, np.log, etc.\n",
    "\n",
    "•\tA\tfunção\taltera\to\tarray\toriginal\tou\tretorna\tum\tnovo?\n",
    "    R:  O array original não é alterado, a menos que você use o parâmetro out= para sobrescrever."
   ]
  },
  {
   "cell_type": "code",
   "execution_count": 28,
   "id": "4b3001d6",
   "metadata": {},
   "outputs": [
    {
     "name": "stdout",
     "output_type": "stream",
     "text": [
      "[[ 87  96  70]\n",
      " [100  87  90]\n",
      " [ 94  77  90]\n",
      " [100  81  82]]\n",
      "96\n",
      "[100  87  90]\n",
      "[96 87]\n",
      "[[96 70]\n",
      " [87 90]\n",
      " [77 90]\n",
      " [81 82]]\n",
      "[[87 96 70]\n",
      " [94 77 90]]\n"
     ]
    }
   ],
   "source": [
    "notas = np.array([[87,96,70], [100,87,90], [94,77,90], [100,81,82]])\n",
    "print(notas)\n",
    "print(notas[0,1])\n",
    "print(notas[1])\n",
    "print(notas[0:2,1])\n",
    "print(notas[:,1:3])\n",
    "print(notas[::2])"
   ]
  },
  {
   "cell_type": "markdown",
   "id": "cd2efe58",
   "metadata": {},
   "source": [
    "8. Indexação e slicing\n",
    "•\tO\tque\trepresenta\to\tíndice\tnegativo?\n",
    "    R:  Um índice negativo acessa elementos a partir do fim do array. -1 é o último elemento, -2 é o penúltimo, e assim por diante.\n",
    "\n",
    "•\tO\tslicing\tinclui\to\tíndice\tfinal?\n",
    "    R:  Não. O índice final é excluído\n",
    "        a = np.array([10, 20, 30, 40, 50])\n",
    "        print(a[1:4])  # [20 30 40] → posição 1 até 3 (exclui o índice 4 - a[início:fim:passo])\n",
    "\n",
    "•\tO\tresultado\té\tuma\tcópia\tou\tuma\tview?\n",
    "    R:  O resultado de um slicing em NumPy é geralmente uma view — ou seja, não copia os dados,\n",
    "        só referencia os mesmos valores na memória, se você quiser uma cópia de verdade, use .copy():"
   ]
  },
  {
   "cell_type": "code",
   "execution_count": 29,
   "id": "1fb6b45c",
   "metadata": {},
   "outputs": [
    {
     "name": "stdout",
     "output_type": "stream",
     "text": [
      "[1 2 3 4 5]\n"
     ]
    }
   ],
   "source": [
    "numeros = np.arange(1,6)\n",
    "print(numeros)\n",
    "numeros2 = numeros.view()"
   ]
  },
  {
   "cell_type": "code",
   "execution_count": 30,
   "id": "82bf6c69",
   "metadata": {},
   "outputs": [
    {
     "name": "stdout",
     "output_type": "stream",
     "text": [
      "1770301071856\n",
      "1770302062096\n"
     ]
    }
   ],
   "source": [
    "print(id(numeros))\n",
    "print(id(numeros2))"
   ]
  },
  {
   "cell_type": "code",
   "execution_count": 31,
   "id": "e8e018fd",
   "metadata": {},
   "outputs": [
    {
     "name": "stdout",
     "output_type": "stream",
     "text": [
      "[ 1 20  3  4  5]\n"
     ]
    }
   ],
   "source": [
    "numeros[1] *= 10\n",
    "print(numeros2)"
   ]
  },
  {
   "cell_type": "code",
   "execution_count": 32,
   "id": "0374c2fa",
   "metadata": {},
   "outputs": [
    {
     "name": "stdout",
     "output_type": "stream",
     "text": [
      "[1 2 3 4 5]\n"
     ]
    }
   ],
   "source": [
    "numeros2[1] /= 10\n",
    "print(numeros)"
   ]
  },
  {
   "cell_type": "code",
   "execution_count": 33,
   "id": "dc0db944",
   "metadata": {},
   "outputs": [
    {
     "name": "stdout",
     "output_type": "stream",
     "text": [
      "[1 2 3]\n"
     ]
    }
   ],
   "source": [
    "numeros2 = numeros[0:3]\n",
    "print(numeros2)"
   ]
  },
  {
   "cell_type": "code",
   "execution_count": 34,
   "id": "83952694",
   "metadata": {},
   "outputs": [
    {
     "name": "stdout",
     "output_type": "stream",
     "text": [
      "1770301071856\n",
      "1770302354032\n"
     ]
    }
   ],
   "source": [
    "print(id(numeros))\n",
    "print(id(numeros2))"
   ]
  },
  {
   "cell_type": "code",
   "execution_count": 36,
   "id": "53aea9be",
   "metadata": {},
   "outputs": [
    {
     "name": "stdout",
     "output_type": "stream",
     "text": [
      "[1 2 3 4 5]\n",
      "[1 2 3 4 5]\n"
     ]
    }
   ],
   "source": [
    "numeros = np.arange(1,6)\n",
    "print(numeros)\n",
    "numeros2 = numeros.copy()\n",
    "print(numeros2)"
   ]
  },
  {
   "cell_type": "code",
   "execution_count": 37,
   "id": "3d9d7eca",
   "metadata": {},
   "outputs": [
    {
     "name": "stdout",
     "output_type": "stream",
     "text": [
      "[ 1 20  3  4  5]\n",
      "[1 2 3 4 5]\n"
     ]
    }
   ],
   "source": [
    "numeros[1] *= 10\n",
    "print(numeros)\n",
    "print(numeros2)"
   ]
  },
  {
   "cell_type": "code",
   "execution_count": 38,
   "id": "c002d223",
   "metadata": {},
   "outputs": [
    {
     "name": "stdout",
     "output_type": "stream",
     "text": [
      "[[ 87  96  70]\n",
      " [100  87  90]]\n",
      "[[ 87  96  70]\n",
      " [100  87  90]]\n"
     ]
    }
   ],
   "source": [
    "notas = np.array([[87,96,70], [100,87,90]])\n",
    "print(notas)\n",
    "notas.reshape((1,6))\n",
    "print(notas)"
   ]
  },
  {
   "cell_type": "code",
   "execution_count": 40,
   "id": "e577412d",
   "metadata": {},
   "outputs": [
    {
     "name": "stdout",
     "output_type": "stream",
     "text": [
      "[[ 87  96  70 100  87  90]]\n"
     ]
    }
   ],
   "source": [
    "notas.resize(1,6)\n",
    "print(notas)"
   ]
  },
  {
   "cell_type": "markdown",
   "id": "4f54fc1c",
   "metadata": {},
   "source": [
    "9. View (shallow copy) vs cópia profunda\n",
    "•\tQual\té\to\tid()\tdo\tarray\toriginal\te\tda\tcópia?\tEles\tsão\tiguais?\n",
    "    R:  id do array original (1770301071856) e id da cópia (1770302354032).\n",
    "    Todos têm IDs diferentes, pois são objetos distintos.\n",
    "        Mas a view compartilha a mesma área de dados na memória do original.\n",
    "\n",
    "•\tO\tque\tacontece\tao\talterar\ta\tview?\tIsso\tafeta\to\toriginal?\n",
    "    R: Alterações na view afetam o array original, porque eles compartilham os mesmos dados.\n",
    "    Por outro lado, a cópia profunda é totalmente independente.\n",
    "\n",
    "•\tQuando\tdevemos\tusar\tcópia\tprofunda?\n",
    "    R:  Você vai modificar os dados e NÃO quer que o original seja afetado;\n",
    "        Vai passar o array pra outra função que pode alterar e você quer preservar o original;\n",
    "        Vai armazenar dados em cache ou backup que não podem ser alterados acidentalmente;\n",
    "        Quer evitar bugs por efeitos colaterais."
   ]
  },
  {
   "cell_type": "code",
   "execution_count": 41,
   "id": "96e29da4",
   "metadata": {},
   "outputs": [
    {
     "name": "stdout",
     "output_type": "stream",
     "text": [
      "[[ 87  96  70]\n",
      " [100  87  90]]\n",
      "[ 87  96  70 100  87  90]\n",
      "[100  96  70 100  87  90]\n",
      "[[ 87  96  70]\n",
      " [100  87  90]]\n"
     ]
    }
   ],
   "source": [
    "notas = np.array([[87,96,70], [100,87,90]])\n",
    "print(notas)\n",
    "flattened = notas.flatten()\n",
    "print(flattened)\n",
    "flattened[0] = 100\n",
    "print(flattened)\n",
    "print(notas)"
   ]
  },
  {
   "cell_type": "code",
   "execution_count": 42,
   "id": "e178b732",
   "metadata": {},
   "outputs": [
    {
     "name": "stdout",
     "output_type": "stream",
     "text": [
      "[ 87  96  70 100  87  90]\n",
      "[100  96  70 100  87  90]\n",
      "[[100  96  70]\n",
      " [100  87  90]]\n"
     ]
    }
   ],
   "source": [
    "reveled = notas.ravel()\n",
    "print(reveled)\n",
    "reveled[0] = 100\n",
    "print(reveled)\n",
    "print(notas)"
   ]
  },
  {
   "cell_type": "markdown",
   "id": "87d52cf7",
   "metadata": {},
   "source": [
    "10. Flatten vs Ravel\n",
    "•\tAmbos\tretornam\tarrays\tunidimensionais?\tQual\ta\tdiferença\treal\tentre\teles?\n",
    "    R:  Sim, tanto flatten() quanto ravel() retornam arrays unidimensionais. A diferença principal é que flatten()\n",
    "        sempre retorna uma cópia independente dos dados (deep copy), enquanto ravel() tenta retornar uma view (shallow copy)\n",
    "        do array original sempre que possível — ou seja, ele não copia os dados, apenas reorganiza a visualização deles na memória.\n",
    "\n",
    "•\tO\tque\tacontece\tse\tvocê\talterar\tum\tvalor\tno\tarray\tretornado\tpor\travel()?\n",
    "    R:  Se ravel() retornou uma view (o mais comum), qualquer alteração no array retornado também modifica o array original, já que\n",
    "        ambos compartilham a mesma área de memória. Para evitar isso, deve-se usar flatten(), que retorna uma cópia independente."
   ]
  },
  {
   "cell_type": "code",
   "execution_count": 43,
   "id": "a1913a40",
   "metadata": {},
   "outputs": [
    {
     "data": {
      "text/plain": [
       "array([[100,  96,  70],\n",
       "       [100,  87,  90]])"
      ]
     },
     "execution_count": 43,
     "metadata": {},
     "output_type": "execute_result"
    }
   ],
   "source": [
    "notas.T\n",
    "notas"
   ]
  },
  {
   "cell_type": "code",
   "execution_count": 46,
   "id": "60980b40",
   "metadata": {},
   "outputs": [
    {
     "name": "stdout",
     "output_type": "stream",
     "text": [
      "[[100  96  70  94  77  90]\n",
      " [100  87  90 100  81  82]]\n",
      "[[100  96  70]\n",
      " [100  87  90]\n",
      " [ 94  77  90]\n",
      " [100  81  82]]\n"
     ]
    }
   ],
   "source": [
    "notas2 = np.array([[94,77,90], [100,81,82]])\n",
    "print(np.hstack((notas, notas2)))\n",
    "print(np.vstack((notas, notas2)))"
   ]
  },
  {
   "cell_type": "markdown",
   "id": "1647e17d",
   "metadata": {},
   "source": [
    "11. Transposição e empilhamento\n",
    "•\tQual\té\to\tformato\tdo\tarray\tapós\ta\ttransposição?\n",
    "    R: A transposição (.T) inverte as dimensões do array. Ou seja, linhas viram colunas e colunas viram linhas.\n",
    "\n",
    "•\thstack\taumenta\to\tnúmero\tde\tcolunas\tou\tde\tlinhas?\n",
    "    R: hstack (horizontal stack) aumenta o número de colunas. Ele junta os arrays lado a lado (horizontalmente).\n",
    "\n",
    "•\tQuais\tas\tcondições\tpara\tque\tvstack\te\thstack\tfuncionem\tcorretamente?\n",
    "    R:  As formas dos arrays precisam ser compatíveis:\n",
    "        Para vstack (vertical):\n",
    "        → Todos os arrays devem ter o mesmo número de colunas.\n",
    "\n",
    "        Para hstack (horizontal):\n",
    "        → Todos os arrays devem ter o mesmo número de linhas."
   ]
  }
 ],
 "metadata": {
  "kernelspec": {
   "display_name": "FatecVenv",
   "language": "python",
   "name": "python3"
  },
  "language_info": {
   "codemirror_mode": {
    "name": "ipython",
    "version": 3
   },
   "file_extension": ".py",
   "mimetype": "text/x-python",
   "name": "python",
   "nbconvert_exporter": "python",
   "pygments_lexer": "ipython3",
   "version": "3.13.2"
  }
 },
 "nbformat": 4,
 "nbformat_minor": 5
}
