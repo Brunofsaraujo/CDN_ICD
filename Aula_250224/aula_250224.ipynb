{
 "cells": [
  {
   "cell_type": "code",
   "execution_count": 1,
   "metadata": {},
   "outputs": [],
   "source": [
    "def load_data(csv_file):\n",
    "    pass\n",
    "\n",
    "def clean_data(input_data, max_length):\n",
    "    pass\n",
    "\n",
    "def plot_data(clean_data, x_axis_limit, line_width):\n",
    "    pass"
   ]
  },
  {
   "cell_type": "code",
   "execution_count": 8,
   "metadata": {},
   "outputs": [
    {
     "name": "stdout",
     "output_type": "stream",
     "text": [
      "\n",
      "Retorna a soma de dois numeros\n",
      "\n",
      "Parametros:\n",
      "a (int ou float): Primeiro numero\n",
      "b (int ou float): Segundo numero\n",
      "\n",
      "Retorna:\n",
      "int ou float: O resultado da soma de a + b\n",
      "\n"
     ]
    }
   ],
   "source": [
    "def soma(a, b):\n",
    "    \"\"\"\n",
    "    Retorna a soma de dois numeros\n",
    "\n",
    "    Parametros:\n",
    "    a (int ou float): Primeiro numero\n",
    "    b (int ou float): Segundo numero\n",
    "\n",
    "    Retorna:\n",
    "    int ou float: O resultado da soma de a + b\n",
    "    \"\"\"\n",
    "    return a + b\n",
    "\n",
    "# Podemos acessar a docstring com:\n",
    "print(soma.__doc__)"
   ]
  },
  {
   "cell_type": "code",
   "execution_count": 9,
   "metadata": {},
   "outputs": [
    {
     "name": "stdout",
     "output_type": "stream",
     "text": [
      "Requirement already satisfied: numpy in c:\\_pessoas\\brunoaraujo\\.venv\\lib\\site-packages (2.2.3)\n"
     ]
    }
   ],
   "source": [
    "!pip install numpy"
   ]
  },
  {
   "cell_type": "code",
   "execution_count": 39,
   "metadata": {},
   "outputs": [],
   "source": [
    "import numpy as np\n",
    "import time\n",
    "import timeit\n",
    "from collections import Counter"
   ]
  },
  {
   "cell_type": "code",
   "execution_count": 40,
   "metadata": {},
   "outputs": [],
   "source": [
    "def slow_way_to_calculate_mode(list_of_numbers):\n",
    "    result_dict = {}\n",
    "    for i in list_of_numbers:\n",
    "        if i not in result_dict:\n",
    "            result_dict[i] = 1\n",
    "        else:\n",
    "            result_dict[i] += 1\n",
    "    mode_vals = []\n",
    "    max_frequency = max(result_dict.values())\n",
    "    for key, value in result_dict.items():\n",
    "        if value == max_frequency:\n",
    "            mode_vals.append(key)\n",
    "    return mode_vals"
   ]
  },
  {
   "cell_type": "code",
   "execution_count": 41,
   "metadata": {},
   "outputs": [
    {
     "name": "stdout",
     "output_type": "stream",
     "text": [
      "5.387715101242065\n"
     ]
    }
   ],
   "source": [
    "ramdom_integers = np.random.randint(1,1_000_0000,1_000_0000)\n",
    "start=time.time()\n",
    "slow_way_to_calculate_mode(ramdom_integers)\n",
    "end=time.time()\n",
    "print(end-start)"
   ]
  },
  {
   "cell_type": "code",
   "execution_count": 42,
   "metadata": {},
   "outputs": [
    {
     "name": "stdout",
     "output_type": "stream",
     "text": [
      "Tempo de execucao:5.428269700030796 seconds\n"
     ]
    }
   ],
   "source": [
    "mode_timer = timeit.Timer(stmt=\"slow_way_to_calculate_mode(ramdom_integers)\",\n",
    "setup=\"from __main__ import slow_way_to_calculate_mode, ramdom_integers\")\n",
    "time_taken = mode_timer.timeit(number=1)\n",
    "print(f\"Tempo de execucao:{time_taken} seconds\")"
   ]
  },
  {
   "cell_type": "code",
   "execution_count": 43,
   "metadata": {},
   "outputs": [],
   "source": [
    "\n",
    "ramdom_integers = np.random.randint(1, 1_000_0000, 1_000_0000)\n",
    "\n",
    "# Função usando Counter\n",
    "def mode_using_counter(list_of_numbers):\n",
    "    c = Counter(list_of_numbers)\n",
    "    return c.most_common(1)[0][0]"
   ]
  },
  {
   "cell_type": "code",
   "execution_count": 44,
   "metadata": {},
   "outputs": [
    {
     "name": "stdout",
     "output_type": "stream",
     "text": [
      "Tempo de execução: 4.6210 seconds\n"
     ]
    }
   ],
   "source": [
    "mode_timer = timeit.Timer(stmt=\"mode_using_counter(ramdom_integers)\",\n",
    "setup=\"from __main__ import mode_using_counter, ramdom_integers\")\n",
    "time_taken = mode_timer.timeit(number=1)\n",
    "print(f\"Tempo de execução: {time_taken:.4f} seconds\")"
   ]
  }
 ],
 "metadata": {
  "kernelspec": {
   "display_name": ".venv",
   "language": "python",
   "name": "python3"
  },
  "language_info": {
   "codemirror_mode": {
    "name": "ipython",
    "version": 3
   },
   "file_extension": ".py",
   "mimetype": "text/x-python",
   "name": "python",
   "nbconvert_exporter": "python",
   "pygments_lexer": "ipython3",
   "version": "3.13.1"
  }
 },
 "nbformat": 4,
 "nbformat_minor": 2
}
