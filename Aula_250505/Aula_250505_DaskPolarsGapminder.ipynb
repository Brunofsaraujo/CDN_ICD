{
 "cells": [
  {
   "cell_type": "code",
   "execution_count": 1,
   "id": "e8f4d368",
   "metadata": {},
   "outputs": [
    {
     "name": "stdout",
     "output_type": "stream",
     "text": [
      "Requirement already satisfied: pandas in d:\\bruno\\fatec cdn\\tecnicasprogramacaocienciadados\\fatecvenv\\lib\\site-packages (2.2.3)\n",
      "Requirement already satisfied: numpy>=1.26.0 in d:\\bruno\\fatec cdn\\tecnicasprogramacaocienciadados\\fatecvenv\\lib\\site-packages (from pandas) (2.2.4)\n",
      "Requirement already satisfied: python-dateutil>=2.8.2 in d:\\bruno\\fatec cdn\\tecnicasprogramacaocienciadados\\fatecvenv\\lib\\site-packages (from pandas) (2.9.0.post0)\n",
      "Requirement already satisfied: pytz>=2020.1 in d:\\bruno\\fatec cdn\\tecnicasprogramacaocienciadados\\fatecvenv\\lib\\site-packages (from pandas) (2025.2)\n",
      "Requirement already satisfied: tzdata>=2022.7 in d:\\bruno\\fatec cdn\\tecnicasprogramacaocienciadados\\fatecvenv\\lib\\site-packages (from pandas) (2025.2)\n",
      "Requirement already satisfied: six>=1.5 in d:\\bruno\\fatec cdn\\tecnicasprogramacaocienciadados\\fatecvenv\\lib\\site-packages (from python-dateutil>=2.8.2->pandas) (1.17.0)\n"
     ]
    },
    {
     "name": "stderr",
     "output_type": "stream",
     "text": [
      "\n",
      "[notice] A new release of pip is available: 24.3.1 -> 25.1.1\n",
      "[notice] To update, run: python.exe -m pip install --upgrade pip\n"
     ]
    },
    {
     "name": "stdout",
     "output_type": "stream",
     "text": [
      "Collecting polars\n",
      "  Downloading polars-1.29.0-cp39-abi3-win_amd64.whl.metadata (15 kB)\n",
      "Downloading polars-1.29.0-cp39-abi3-win_amd64.whl (35.0 MB)\n",
      "   ---------------------------------------- 0.0/35.0 MB ? eta -:--:--\n",
      "   ---------------------------------------- 0.3/35.0 MB ? eta -:--:--\n",
      "   - -------------------------------------- 1.0/35.0 MB 2.8 MB/s eta 0:00:13\n",
      "   - -------------------------------------- 1.6/35.0 MB 2.8 MB/s eta 0:00:13\n",
      "   -- ------------------------------------- 2.1/35.0 MB 2.8 MB/s eta 0:00:12\n",
      "   --- ------------------------------------ 2.9/35.0 MB 2.8 MB/s eta 0:00:12\n",
      "   --- ------------------------------------ 3.4/35.0 MB 2.8 MB/s eta 0:00:12\n",
      "   ---- ----------------------------------- 3.9/35.0 MB 2.8 MB/s eta 0:00:12\n",
      "   ----- ---------------------------------- 4.5/35.0 MB 2.8 MB/s eta 0:00:11\n",
      "   ----- ---------------------------------- 5.2/35.0 MB 2.8 MB/s eta 0:00:11\n",
      "   ------ --------------------------------- 5.8/35.0 MB 2.8 MB/s eta 0:00:11\n",
      "   ------- -------------------------------- 6.3/35.0 MB 2.8 MB/s eta 0:00:11\n",
      "   -------- ------------------------------- 7.1/35.0 MB 2.8 MB/s eta 0:00:10\n",
      "   -------- ------------------------------- 7.6/35.0 MB 2.8 MB/s eta 0:00:10\n",
      "   --------- ------------------------------ 8.1/35.0 MB 2.8 MB/s eta 0:00:10\n",
      "   --------- ------------------------------ 8.7/35.0 MB 2.8 MB/s eta 0:00:10\n",
      "   ---------- ----------------------------- 9.4/35.0 MB 2.8 MB/s eta 0:00:10\n",
      "   ----------- ---------------------------- 10.0/35.0 MB 2.8 MB/s eta 0:00:09\n",
      "   ----------- ---------------------------- 10.5/35.0 MB 2.8 MB/s eta 0:00:09\n",
      "   ------------ --------------------------- 11.0/35.0 MB 2.8 MB/s eta 0:00:09\n",
      "   ------------- -------------------------- 11.8/35.0 MB 2.8 MB/s eta 0:00:09\n",
      "   -------------- ------------------------- 12.3/35.0 MB 2.8 MB/s eta 0:00:09\n",
      "   -------------- ------------------------- 12.8/35.0 MB 2.8 MB/s eta 0:00:08\n",
      "   -------------- ------------------------- 13.1/35.0 MB 2.8 MB/s eta 0:00:08\n",
      "   --------------- ------------------------ 13.4/35.0 MB 2.7 MB/s eta 0:00:08\n",
      "   --------------- ------------------------ 13.4/35.0 MB 2.7 MB/s eta 0:00:08\n",
      "   --------------- ------------------------ 13.4/35.0 MB 2.7 MB/s eta 0:00:08\n",
      "   --------------- ------------------------ 13.4/35.0 MB 2.7 MB/s eta 0:00:08\n",
      "   --------------- ------------------------ 13.4/35.0 MB 2.7 MB/s eta 0:00:08\n",
      "   --------------- ------------------------ 13.6/35.0 MB 2.2 MB/s eta 0:00:10\n",
      "   ---------------- ----------------------- 14.2/35.0 MB 2.2 MB/s eta 0:00:10\n",
      "   ---------------- ----------------------- 14.7/35.0 MB 2.3 MB/s eta 0:00:10\n",
      "   ----------------- ---------------------- 15.5/35.0 MB 2.3 MB/s eta 0:00:09\n",
      "   ------------------ --------------------- 16.0/35.0 MB 2.3 MB/s eta 0:00:09\n",
      "   ------------------- -------------------- 16.8/35.0 MB 2.3 MB/s eta 0:00:08\n",
      "   ------------------- -------------------- 17.3/35.0 MB 2.3 MB/s eta 0:00:08\n",
      "   -------------------- ------------------- 17.8/35.0 MB 2.3 MB/s eta 0:00:08\n",
      "   -------------------- ------------------- 18.4/35.0 MB 2.4 MB/s eta 0:00:08\n",
      "   --------------------- ------------------ 19.1/35.0 MB 2.4 MB/s eta 0:00:07\n",
      "   ---------------------- ----------------- 19.7/35.0 MB 2.4 MB/s eta 0:00:07\n",
      "   ----------------------- ---------------- 20.4/35.0 MB 2.4 MB/s eta 0:00:07\n",
      "   ----------------------- ---------------- 21.0/35.0 MB 2.4 MB/s eta 0:00:06\n",
      "   ------------------------ --------------- 21.8/35.0 MB 2.4 MB/s eta 0:00:06\n",
      "   ------------------------- -------------- 22.3/35.0 MB 2.4 MB/s eta 0:00:06\n",
      "   -------------------------- ------------- 22.8/35.0 MB 2.5 MB/s eta 0:00:05\n",
      "   -------------------------- ------------- 23.6/35.0 MB 2.5 MB/s eta 0:00:05\n",
      "   --------------------------- ------------ 24.1/35.0 MB 2.5 MB/s eta 0:00:05\n",
      "   ---------------------------- ----------- 24.6/35.0 MB 2.5 MB/s eta 0:00:05\n",
      "   ----------------------------- ---------- 25.4/35.0 MB 2.5 MB/s eta 0:00:04\n",
      "   ----------------------------- ---------- 26.0/35.0 MB 2.5 MB/s eta 0:00:04\n",
      "   ------------------------------ --------- 26.7/35.0 MB 2.5 MB/s eta 0:00:04\n",
      "   ------------------------------- -------- 27.3/35.0 MB 2.5 MB/s eta 0:00:04\n",
      "   ------------------------------- -------- 27.8/35.0 MB 2.5 MB/s eta 0:00:03\n",
      "   -------------------------------- ------- 28.6/35.0 MB 2.5 MB/s eta 0:00:03\n",
      "   --------------------------------- ------ 29.1/35.0 MB 2.6 MB/s eta 0:00:03\n",
      "   ---------------------------------- ----- 29.9/35.0 MB 2.6 MB/s eta 0:00:02\n",
      "   ---------------------------------- ----- 30.4/35.0 MB 2.6 MB/s eta 0:00:02\n",
      "   ----------------------------------- ---- 31.2/35.0 MB 2.6 MB/s eta 0:00:02\n",
      "   ------------------------------------ --- 31.7/35.0 MB 2.6 MB/s eta 0:00:02\n",
      "   ------------------------------------ --- 32.2/35.0 MB 2.6 MB/s eta 0:00:02\n",
      "   ------------------------------------- -- 33.0/35.0 MB 2.6 MB/s eta 0:00:01\n",
      "   -------------------------------------- - 33.6/35.0 MB 2.6 MB/s eta 0:00:01\n",
      "   -------------------------------------- - 34.1/35.0 MB 2.6 MB/s eta 0:00:01\n",
      "   ---------------------------------------  34.9/35.0 MB 2.6 MB/s eta 0:00:01\n",
      "   ---------------------------------------- 35.0/35.0 MB 2.6 MB/s eta 0:00:00\n",
      "Installing collected packages: polars\n",
      "Successfully installed polars-1.29.0\n"
     ]
    },
    {
     "name": "stderr",
     "output_type": "stream",
     "text": [
      "\n",
      "[notice] A new release of pip is available: 24.3.1 -> 25.1.1\n",
      "[notice] To update, run: python.exe -m pip install --upgrade pip\n"
     ]
    },
    {
     "name": "stdout",
     "output_type": "stream",
     "text": [
      "Requirement already satisfied: dask in d:\\bruno\\fatec cdn\\tecnicasprogramacaocienciadados\\fatecvenv\\lib\\site-packages (2025.4.1)\n",
      "Requirement already satisfied: click>=8.1 in d:\\bruno\\fatec cdn\\tecnicasprogramacaocienciadados\\fatecvenv\\lib\\site-packages (from dask) (8.1.8)\n",
      "Requirement already satisfied: cloudpickle>=3.0.0 in d:\\bruno\\fatec cdn\\tecnicasprogramacaocienciadados\\fatecvenv\\lib\\site-packages (from dask) (3.1.1)\n",
      "Requirement already satisfied: fsspec>=2021.09.0 in d:\\bruno\\fatec cdn\\tecnicasprogramacaocienciadados\\fatecvenv\\lib\\site-packages (from dask) (2025.3.2)\n",
      "Requirement already satisfied: packaging>=20.0 in d:\\bruno\\fatec cdn\\tecnicasprogramacaocienciadados\\fatecvenv\\lib\\site-packages (from dask) (24.2)\n",
      "Requirement already satisfied: partd>=1.4.0 in d:\\bruno\\fatec cdn\\tecnicasprogramacaocienciadados\\fatecvenv\\lib\\site-packages (from dask) (1.4.2)\n",
      "Requirement already satisfied: pyyaml>=5.3.1 in d:\\bruno\\fatec cdn\\tecnicasprogramacaocienciadados\\fatecvenv\\lib\\site-packages (from dask) (6.0.2)\n",
      "Requirement already satisfied: toolz>=0.10.0 in d:\\bruno\\fatec cdn\\tecnicasprogramacaocienciadados\\fatecvenv\\lib\\site-packages (from dask) (1.0.0)\n",
      "Requirement already satisfied: colorama in d:\\bruno\\fatec cdn\\tecnicasprogramacaocienciadados\\fatecvenv\\lib\\site-packages (from click>=8.1->dask) (0.4.6)\n",
      "Requirement already satisfied: locket in d:\\bruno\\fatec cdn\\tecnicasprogramacaocienciadados\\fatecvenv\\lib\\site-packages (from partd>=1.4.0->dask) (1.0.0)\n"
     ]
    },
    {
     "name": "stderr",
     "output_type": "stream",
     "text": [
      "\n",
      "[notice] A new release of pip is available: 24.3.1 -> 25.1.1\n",
      "[notice] To update, run: python.exe -m pip install --upgrade pip\n"
     ]
    },
    {
     "name": "stdout",
     "output_type": "stream",
     "text": [
      "Requirement already satisfied: pyarrow in d:\\bruno\\fatec cdn\\tecnicasprogramacaocienciadados\\fatecvenv\\lib\\site-packages (20.0.0)\n"
     ]
    },
    {
     "name": "stderr",
     "output_type": "stream",
     "text": [
      "\n",
      "[notice] A new release of pip is available: 24.3.1 -> 25.1.1\n",
      "[notice] To update, run: python.exe -m pip install --upgrade pip\n"
     ]
    }
   ],
   "source": [
    "!pip install pandas\n",
    "!pip install polars\n",
    "!pip install dask\n",
    "!pip install pyarrow"
   ]
  },
  {
   "cell_type": "code",
   "execution_count": 3,
   "id": "bd1813a6",
   "metadata": {},
   "outputs": [
    {
     "name": "stdout",
     "output_type": "stream",
     "text": [
      "       country continent  year  lifeExp       pop   gdpPercap\n",
      "0  Afghanistan      Asia  1952   28.801   8425333  779.445314\n",
      "1  Afghanistan      Asia  1957   30.332   9240934  820.853030\n",
      "2  Afghanistan      Asia  1962   31.997  10267083  853.100710\n",
      "3  Afghanistan      Asia  1967   34.020  11537966  836.197138\n",
      "4  Afghanistan      Asia  1972   36.088  13079460  739.981106\n",
      "\n",
      "\n",
      "<class 'pandas.core.frame.DataFrame'>\n",
      "\n",
      "\n",
      "(1704, 6)\n",
      "\n",
      "\n",
      "Index(['country', 'continent', 'year', 'lifeExp', 'pop', 'gdpPercap'], dtype='object')\n",
      "\n",
      "\n",
      "country       object\n",
      "continent     object\n",
      "year           int64\n",
      "lifeExp      float64\n",
      "pop            int64\n",
      "gdpPercap    float64\n",
      "dtype: object\n",
      "\n",
      "\n",
      "<class 'pandas.core.frame.DataFrame'>\n",
      "RangeIndex: 1704 entries, 0 to 1703\n",
      "Data columns (total 6 columns):\n",
      " #   Column     Non-Null Count  Dtype  \n",
      "---  ------     --------------  -----  \n",
      " 0   country    1704 non-null   object \n",
      " 1   continent  1704 non-null   object \n",
      " 2   year       1704 non-null   int64  \n",
      " 3   lifeExp    1704 non-null   float64\n",
      " 4   pop        1704 non-null   int64  \n",
      " 5   gdpPercap  1704 non-null   float64\n",
      "dtypes: float64(2), int64(2), object(2)\n",
      "memory usage: 80.0+ KB\n",
      "None\n"
     ]
    }
   ],
   "source": [
    "import pandas as pd\n",
    "\n",
    "# Carregando o dataset ( conjunto de dados)\n",
    "df = pd.read_csv(r\"gapminder.tsv\", sep=\"\\t\")\n",
    "print(df.head())\n",
    "print(\"\\n\")\n",
    "print(type(df))\n",
    "print(\"\\n\")\n",
    "print(df.shape)\n",
    "print(\"\\n\")\n",
    "print(df.columns)\n",
    "print(\"\\n\")\n",
    "print(df.dtypes)\n",
    "print(\"\\n\")\n",
    "print(df.info())"
   ]
  },
  {
   "cell_type": "code",
   "execution_count": 4,
   "id": "e5a2382c",
   "metadata": {},
   "outputs": [
    {
     "name": "stdout",
     "output_type": "stream",
     "text": [
      "Primeiras linhas no Dask:\n"
     ]
    },
    {
     "data": {
      "text/html": [
       "<div>\n",
       "<style scoped>\n",
       "    .dataframe tbody tr th:only-of-type {\n",
       "        vertical-align: middle;\n",
       "    }\n",
       "\n",
       "    .dataframe tbody tr th {\n",
       "        vertical-align: top;\n",
       "    }\n",
       "\n",
       "    .dataframe thead th {\n",
       "        text-align: right;\n",
       "    }\n",
       "</style>\n",
       "<table border=\"1\" class=\"dataframe\">\n",
       "  <thead>\n",
       "    <tr style=\"text-align: right;\">\n",
       "      <th></th>\n",
       "      <th>country</th>\n",
       "      <th>continent</th>\n",
       "      <th>year</th>\n",
       "      <th>lifeExp</th>\n",
       "      <th>pop</th>\n",
       "      <th>gdpPercap</th>\n",
       "    </tr>\n",
       "  </thead>\n",
       "  <tbody>\n",
       "    <tr>\n",
       "      <th>0</th>\n",
       "      <td>Afghanistan</td>\n",
       "      <td>Asia</td>\n",
       "      <td>1952</td>\n",
       "      <td>28.80</td>\n",
       "      <td>8425333</td>\n",
       "      <td>779.45</td>\n",
       "    </tr>\n",
       "    <tr>\n",
       "      <th>1</th>\n",
       "      <td>Afghanistan</td>\n",
       "      <td>Asia</td>\n",
       "      <td>1957</td>\n",
       "      <td>30.33</td>\n",
       "      <td>9240934</td>\n",
       "      <td>820.85</td>\n",
       "    </tr>\n",
       "    <tr>\n",
       "      <th>2</th>\n",
       "      <td>Afghanistan</td>\n",
       "      <td>Asia</td>\n",
       "      <td>1962</td>\n",
       "      <td>32.00</td>\n",
       "      <td>10267083</td>\n",
       "      <td>853.10</td>\n",
       "    </tr>\n",
       "    <tr>\n",
       "      <th>3</th>\n",
       "      <td>Afghanistan</td>\n",
       "      <td>Asia</td>\n",
       "      <td>1967</td>\n",
       "      <td>34.02</td>\n",
       "      <td>11537966</td>\n",
       "      <td>836.20</td>\n",
       "    </tr>\n",
       "    <tr>\n",
       "      <th>4</th>\n",
       "      <td>Afghanistan</td>\n",
       "      <td>Asia</td>\n",
       "      <td>1972</td>\n",
       "      <td>36.09</td>\n",
       "      <td>13079460</td>\n",
       "      <td>739.98</td>\n",
       "    </tr>\n",
       "  </tbody>\n",
       "</table>\n",
       "</div>"
      ],
      "text/plain": [
       "       country continent  year  lifeExp       pop  gdpPercap\n",
       "0  Afghanistan      Asia  1952    28.80   8425333     779.45\n",
       "1  Afghanistan      Asia  1957    30.33   9240934     820.85\n",
       "2  Afghanistan      Asia  1962    32.00  10267083     853.10\n",
       "3  Afghanistan      Asia  1967    34.02  11537966     836.20\n",
       "4  Afghanistan      Asia  1972    36.09  13079460     739.98"
      ]
     },
     "metadata": {},
     "output_type": "display_data"
    },
    {
     "name": "stdout",
     "output_type": "stream",
     "text": [
      "\n",
      "Média da populacao: 29.601.212\n"
     ]
    }
   ],
   "source": [
    "# Dask com o df de aula - gapminder\n",
    "\n",
    "import pandas as pd\n",
    "import dask.dataframe as dd\n",
    "\n",
    "df_dask = dd.from_pandas(df, npartitions=2)\n",
    "print(\"Primeiras linhas no Dask:\")\n",
    "display(df_dask.head().round({\n",
    "    'lifeExp': 2,\n",
    "    'gdpPercap': 2\n",
    "}))\n",
    "\n",
    "media_populacao = df_dask['pop'].mean()\n",
    "print(\"\\nMédia da populacao:\", f\"{media_populacao.compute():,.0f}\".replace(\",\", \"x\").replace(\".\", \",\").replace(\"x\", \".\"))"
   ]
  },
  {
   "cell_type": "code",
   "execution_count": 5,
   "id": "bc1cb562",
   "metadata": {},
   "outputs": [
    {
     "name": "stdout",
     "output_type": "stream",
     "text": [
      "DataFrame em Polars (primeiras linhas):\n"
     ]
    },
    {
     "data": {
      "text/html": [
       "<div><style>\n",
       ".dataframe > thead > tr,\n",
       ".dataframe > tbody > tr {\n",
       "  text-align: right;\n",
       "  white-space: pre-wrap;\n",
       "}\n",
       "</style>\n",
       "<small>shape: (5, 6)</small><table border=\"1\" class=\"dataframe\"><thead><tr><th>country</th><th>continent</th><th>year</th><th>lifeExp</th><th>pop</th><th>gdpPercap</th></tr><tr><td>str</td><td>str</td><td>i64</td><td>f64</td><td>i64</td><td>f64</td></tr></thead><tbody><tr><td>&quot;Afghanistan&quot;</td><td>&quot;Asia&quot;</td><td>1952</td><td>28.8</td><td>8425333</td><td>779.45</td></tr><tr><td>&quot;Afghanistan&quot;</td><td>&quot;Asia&quot;</td><td>1957</td><td>30.33</td><td>9240934</td><td>820.85</td></tr><tr><td>&quot;Afghanistan&quot;</td><td>&quot;Asia&quot;</td><td>1962</td><td>32.0</td><td>10267083</td><td>853.1</td></tr><tr><td>&quot;Afghanistan&quot;</td><td>&quot;Asia&quot;</td><td>1967</td><td>34.02</td><td>11537966</td><td>836.2</td></tr><tr><td>&quot;Afghanistan&quot;</td><td>&quot;Asia&quot;</td><td>1972</td><td>36.09</td><td>13079460</td><td>739.98</td></tr></tbody></table></div>"
      ],
      "text/plain": [
       "shape: (5, 6)\n",
       "┌─────────────┬───────────┬──────┬─────────┬──────────┬───────────┐\n",
       "│ country     ┆ continent ┆ year ┆ lifeExp ┆ pop      ┆ gdpPercap │\n",
       "│ ---         ┆ ---       ┆ ---  ┆ ---     ┆ ---      ┆ ---       │\n",
       "│ str         ┆ str       ┆ i64  ┆ f64     ┆ i64      ┆ f64       │\n",
       "╞═════════════╪═══════════╪══════╪═════════╪══════════╪═══════════╡\n",
       "│ Afghanistan ┆ Asia      ┆ 1952 ┆ 28.8    ┆ 8425333  ┆ 779.45    │\n",
       "│ Afghanistan ┆ Asia      ┆ 1957 ┆ 30.33   ┆ 9240934  ┆ 820.85    │\n",
       "│ Afghanistan ┆ Asia      ┆ 1962 ┆ 32.0    ┆ 10267083 ┆ 853.1     │\n",
       "│ Afghanistan ┆ Asia      ┆ 1967 ┆ 34.02   ┆ 11537966 ┆ 836.2     │\n",
       "│ Afghanistan ┆ Asia      ┆ 1972 ┆ 36.09   ┆ 13079460 ┆ 739.98    │\n",
       "└─────────────┴───────────┴──────┴─────────┴──────────┴───────────┘"
      ]
     },
     "metadata": {},
     "output_type": "display_data"
    },
    {
     "name": "stdout",
     "output_type": "stream",
     "text": [
      "\n",
      "Média da populacao: 29.601.212\n"
     ]
    }
   ],
   "source": [
    "# Polars para o df da aula - gapminder\n",
    "\n",
    "import polars as pl\n",
    "\n",
    "# Criar um DataFrame diretamente com Polars\n",
    "df_polars = pl.DataFrame(df)\n",
    "\n",
    "print(\"DataFrame em Polars (primeiras linhas):\")\n",
    "display(df_polars.head().select(\n",
    "    pl.col('country'),\n",
    "    pl.col('continent'),\n",
    "    pl.col('year'),\n",
    "    pl.col('lifeExp').round(2),\n",
    "    pl.col('pop').cast(pl.Int64),\n",
    "    pl.col('gdpPercap').round(2)\n",
    "))\n",
    "\n",
    "# Format population mean without scientific notation\n",
    "populacao = df_polars.select(pl.col('pop').mean()).item()\n",
    "print(\"\\nMédia da populacao:\", f\"{populacao:,.0f}\".replace(\",\", \"x\").replace(\".\", \",\").replace(\"x\", \".\"))"
   ]
  }
 ],
 "metadata": {
  "kernelspec": {
   "display_name": "FatecVenv",
   "language": "python",
   "name": "python3"
  },
  "language_info": {
   "codemirror_mode": {
    "name": "ipython",
    "version": 3
   },
   "file_extension": ".py",
   "mimetype": "text/x-python",
   "name": "python",
   "nbconvert_exporter": "python",
   "pygments_lexer": "ipython3",
   "version": "3.13.2"
  }
 },
 "nbformat": 4,
 "nbformat_minor": 5
}
